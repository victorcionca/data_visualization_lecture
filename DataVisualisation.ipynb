{
 "cells": [
  {
   "cell_type": "markdown",
   "metadata": {
    "slideshow": {
     "slide_type": "slide"
    }
   },
   "source": [
    "# Data visualization"
   ]
  },
  {
   "cell_type": "markdown",
   "metadata": {
    "slideshow": {
     "slide_type": "slide"
    }
   },
   "source": [
    "## Exploratory data analysis"
   ]
  },
  {
   "cell_type": "markdown",
   "metadata": {
    "slideshow": {
     "slide_type": "slide"
    }
   },
   "source": [
    "## Univariate data\n",
    "\n",
    "* sample vs population"
   ]
  },
  {
   "cell_type": "markdown",
   "metadata": {
    "slideshow": {
     "slide_type": "slide"
    }
   },
   "source": [
    "## Categorical data\n",
    "\n",
    "* tabular analysis of frequency\n",
    "\n",
    "<img src=\"https://miro.medium.com/max/1044/1*g3RFKtbpbCY8HaM2eEpGTA.png\" width=\"50%\">"
   ]
  },
  {
   "cell_type": "markdown",
   "metadata": {
    "slideshow": {
     "slide_type": "slide"
    }
   },
   "source": [
    "## Quantitative data"
   ]
  },
  {
   "cell_type": "code",
   "execution_count": 2,
   "metadata": {
    "slideshow": {
     "slide_type": "fragment"
    }
   },
   "outputs": [],
   "source": [
    "import pandas as pd\n",
    "import numpy as np\n",
    "import matplotlib.pyplot as plt"
   ]
  },
  {
   "cell_type": "code",
   "execution_count": 3,
   "metadata": {
    "slideshow": {
     "slide_type": "fragment"
    }
   },
   "outputs": [],
   "source": [
    "data = pd.read_csv('/home/victor/work/lora/data/packet_error/phase8_lorahost_pkts.csv')"
   ]
  },
  {
   "cell_type": "code",
   "execution_count": 10,
   "metadata": {
    "slideshow": {
     "slide_type": "fragment"
    }
   },
   "outputs": [
    {
     "data": {
      "text/plain": [
       "Index(['Unnamed: 0', 'UTC timestamp', 'us count', 'frequency', 'status',\n",
       "       'size', 'datarate', 'coderate', 'RSSI', 'SNR', 'SNRMIN', 'SNRMAX',\n",
       "       'payload', 'pld-hdr'],\n",
       "      dtype='object')"
      ]
     },
     "execution_count": 10,
     "metadata": {},
     "output_type": "execute_result"
    }
   ],
   "source": [
    "data.columns"
   ]
  },
  {
   "cell_type": "code",
   "execution_count": 4,
   "metadata": {
    "slideshow": {
     "slide_type": "skip"
    }
   },
   "outputs": [],
   "source": [
    "univar = data['RSSI']"
   ]
  },
  {
   "cell_type": "markdown",
   "metadata": {
    "slideshow": {
     "slide_type": "slide"
    }
   },
   "source": [
    "### Histogram\n",
    "\n",
    "* representation of the sample distribution"
   ]
  },
  {
   "cell_type": "code",
   "execution_count": 32,
   "metadata": {
    "slideshow": {
     "slide_type": "fragment"
    }
   },
   "outputs": [
    {
     "data": {
      "image/png": "[encoded data removed]",
      "text/plain": [
       "<Figure size 432x288 with 1 Axes>"
      ]
     },
     "metadata": {
      "needs_background": "light"
     },
     "output_type": "display_data"
    }
   ],
   "source": [
    "_ = plt.hist(univar)"
   ]
  },
  {
   "cell_type": "markdown",
   "metadata": {
    "slideshow": {
     "slide_type": "slide"
    }
   },
   "source": [
    "### Histogram bins: width and number\n",
    "\n",
    "* the bin width acts as a smoothing factor for the distribution"
   ]
  },
  {
   "cell_type": "code",
   "execution_count": 22,
   "metadata": {
    "slideshow": {
     "slide_type": "fragment"
    }
   },
   "outputs": [
    {
     "data": {
      "text/plain": [
       "Text(0.5, 1.0, 'Bin width=10 units')"
      ]
     },
     "execution_count": 22,
     "metadata": {},
     "output_type": "execute_result"
    },
    {
     "data": {
      "image/png": "[encoded data removed]",
      "text/plain": [
       "<Figure size 1152x288 with 2 Axes>"
      ]
     },
     "metadata": {
      "needs_background": "light"
     },
     "output_type": "display_data"
    }
   ],
   "source": [
    "plt.figure(figsize=(16,4))\n",
    "plt.subplot(1,2,1)\n",
    "plt.hist(univar, bins=univar.max()-univar.min())\n",
    "plt.title('Bin width=1 unit')\n",
    "plt.subplot(1,2,2)\n",
    "plt.hist(univar, bins=int((univar.max()-univar.min())/10))\n",
    "plt.title('Bin width=10 units')"
   ]
  },
  {
   "cell_type": "markdown",
   "metadata": {
    "slideshow": {
     "slide_type": "slide"
    }
   },
   "source": [
    "### Histogram bins: Scott's normal reference rule\n",
    "\n",
    "* histograms are a discrete approximation of the continuous distribution\n",
    "* as the number of samples $\\to \\infty$ the histogram should show the continuous distribution\n",
    "* Scott's rule selects the bin width to minimize the difference between the histogram and the density estimate\n",
    "\n",
    "$h = \\frac{3.5\\sigma}{\\sqrt[3]{n}}$"
   ]
  },
  {
   "cell_type": "code",
   "execution_count": 30,
   "metadata": {
    "slideshow": {
     "slide_type": "fragment"
    }
   },
   "outputs": [
    {
     "data": {
      "text/plain": [
       "0.3849119161563253"
      ]
     },
     "execution_count": 30,
     "metadata": {},
     "output_type": "execute_result"
    }
   ],
   "source": [
    "binwidth = 3.5*np.std(univar)/np.power(len(univar), 1/3)\n",
    "binwidth"
   ]
  },
  {
   "cell_type": "code",
   "execution_count": 31,
   "metadata": {
    "slideshow": {
     "slide_type": "fragment"
    }
   },
   "outputs": [
    {
     "data": {
      "image/png": "[encoded data removed]",
      "text/plain": [
       "<Figure size 432x288 with 1 Axes>"
      ]
     },
     "metadata": {
      "needs_background": "light"
     },
     "output_type": "display_data"
    }
   ],
   "source": [
    "_ = plt.hist(univar, bins=int((univar.max()-univar.min())/binwidth))"
   ]
  },
  {
   "cell_type": "markdown",
   "metadata": {
    "slideshow": {
     "slide_type": "fragment"
    }
   },
   "source": [
    "* What's happening?\n",
    "* Scott's rule is designed for __normally__ distributed data\n",
    "* there are other bin width selection rules for non-normal data."
   ]
  },
  {
   "cell_type": "markdown",
   "metadata": {
    "slideshow": {
     "slide_type": "slide"
    }
   },
   "source": [
    "### Mean"
   ]
  },
  {
   "cell_type": "code",
   "execution_count": 33,
   "metadata": {
    "slideshow": {
     "slide_type": "-"
    }
   },
   "outputs": [
    {
     "data": {
      "text/plain": [
       "<matplotlib.lines.Line2D at 0x7fb14b1830b8>"
      ]
     },
     "execution_count": 33,
     "metadata": {},
     "output_type": "execute_result"
    },
    {
     "data": {
      "image/png": "[encoded data removed]",
      "text/plain": [
       "<Figure size 432x288 with 1 Axes>"
      ]
     },
     "metadata": {
      "needs_background": "light"
     },
     "output_type": "display_data"
    }
   ],
   "source": [
    "_ = plt.hist(univar, bins=int((univar.max()-univar.min())))\n",
    "plt.axvline(np.mean(univar), color='red', linewidth=2)"
   ]
  },
  {
   "cell_type": "markdown",
   "metadata": {
    "slideshow": {
     "slide_type": "slide"
    }
   },
   "source": [
    "### Median"
   ]
  },
  {
   "cell_type": "code",
   "execution_count": 35,
   "metadata": {
    "slideshow": {
     "slide_type": "-"
    }
   },
   "outputs": [
    {
     "data": {
      "text/plain": [
       "<matplotlib.lines.Line2D at 0x7fb14a786438>"
      ]
     },
     "execution_count": 35,
     "metadata": {},
     "output_type": "execute_result"
    },
    {
     "data": {
      "image/png": "[encoded data removed]",
      "text/plain": [
       "<Figure size 432x288 with 1 Axes>"
      ]
     },
     "metadata": {
      "needs_background": "light"
     },
     "output_type": "display_data"
    }
   ],
   "source": [
    "_ = plt.hist(univar, bins=int((univar.max()-univar.min())))\n",
    "plt.axvline(np.mean(univar), color='red', linewidth=2)\n",
    "plt.axvline(np.median(univar), color='green', linewidth=2)"
   ]
  },
  {
   "cell_type": "markdown",
   "metadata": {
    "slideshow": {
     "slide_type": "slide"
    }
   },
   "source": [
    "### Robustness\n",
    "\n",
    "* a statistic is robust if moving some of the data will not affect the statistic"
   ]
  },
  {
   "cell_type": "markdown",
   "metadata": {
    "slideshow": {
     "slide_type": "slide"
    }
   },
   "source": [
    "### The median is robust"
   ]
  },
  {
   "cell_type": "code",
   "execution_count": 53,
   "metadata": {
    "slideshow": {
     "slide_type": "-"
    }
   },
   "outputs": [
    {
     "name": "stdout",
     "output_type": "stream",
     "text": [
      "-117.0 -115.0\n"
     ]
    },
    {
     "data": {
      "image/png": "[encoded data removed]",
      "text/plain": [
       "<Figure size 720x360 with 2 Axes>"
      ]
     },
     "metadata": {
      "needs_background": "light"
     },
     "output_type": "display_data"
    }
   ],
   "source": [
    "univar_copy = list(univar)\n",
    "univar_copy.extend([-20]*100000)\n",
    "\n",
    "plt.figure(figsize=(10,5))\n",
    "plt.subplot(1,2,1)\n",
    "plt.hist(univar, bins=univar.max()-univar.min())\n",
    "plt.axvline(np.median(univar), color='red', linewidth=2)\n",
    "plt.subplot(1,2,2)\n",
    "plt.hist(univar_copy, bins=max(univar_copy)-min(univar_copy))\n",
    "plt.axvline(np.median(univar_copy), color='red', linewidth=2)\n",
    "print(np.median(univar), np.median(univar_copy))"
   ]
  },
  {
   "cell_type": "markdown",
   "metadata": {
    "slideshow": {
     "slide_type": "slide"
    }
   },
   "source": [
    "### The mean is not robust"
   ]
  },
  {
   "cell_type": "code",
   "execution_count": 54,
   "metadata": {
    "slideshow": {
     "slide_type": "-"
    }
   },
   "outputs": [
    {
     "name": "stdout",
     "output_type": "stream",
     "text": [
      "-113.90436855626508 -98.31917619742318\n"
     ]
    },
    {
     "data": {
      "image/png": "[encoded data removed]",
      "text/plain": [
       "<Figure size 720x360 with 2 Axes>"
      ]
     },
     "metadata": {
      "needs_background": "light"
     },
     "output_type": "display_data"
    }
   ],
   "source": [
    "univar_copy = list(univar)\n",
    "univar_copy.extend([-20]*100000)\n",
    "\n",
    "plt.figure(figsize=(10,5))\n",
    "plt.subplot(1,2,1)\n",
    "plt.hist(univar, bins=univar.max()-univar.min())\n",
    "plt.axvline(np.mean(univar), color='red', linewidth=2)\n",
    "plt.subplot(1,2,2)\n",
    "plt.hist(univar_copy, bins=max(univar_copy)-min(univar_copy))\n",
    "plt.axvline(np.mean(univar_copy), color='red', linewidth=2)\n",
    "print(np.mean(univar), np.mean(univar_copy))"
   ]
  },
  {
   "cell_type": "markdown",
   "metadata": {
    "slideshow": {
     "slide_type": "slide"
    }
   },
   "source": [
    "### Box and whiskers plot\n",
    "\n",
    "![Box and whiskers](https://publiclab.org/system/images/photos/000/032/980/original/Screen_Shot_2019-06-18_at_10.27.45_AM.png)"
   ]
  },
  {
   "cell_type": "markdown",
   "metadata": {
    "slideshow": {
     "slide_type": "slide"
    }
   },
   "source": [
    "### Box and whiskers plot, what does it show?\n",
    "\n",
    "Properties of the distribution\n",
    "* spread (Inter-Quartile Range)\n",
    "* skewness\n",
    "* kurtosis\n",
    "* tails (heavy left-right)"
   ]
  },
  {
   "cell_type": "code",
   "execution_count": 9,
   "metadata": {},
   "outputs": [],
   "source": [
    "plt.boxplot?"
   ]
  },
  {
   "cell_type": "code",
   "execution_count": 7,
   "metadata": {
    "slideshow": {
     "slide_type": "slide"
    }
   },
   "outputs": [
    {
     "data": {
      "image/png": "[encoded data removed]",
      "text/plain": [
       "<Figure size 432x288 with 1 Axes>"
      ]
     },
     "metadata": {
      "needs_background": "light"
     },
     "output_type": "display_data"
    }
   ],
   "source": [
    "_=plt.boxplot(univar, vert=False)"
   ]
  },
  {
   "cell_type": "markdown",
   "metadata": {},
   "source": [
    "The whiskers are placed by default at $Q_1-1.5IQR$ and $Q_2+1.5IQR$. They can be changed for example to reflect the $[5,95]$ percentile interval\n",
    "\n",
    "Anything outside these values is considered outlier."
   ]
  },
  {
   "cell_type": "markdown",
   "metadata": {
    "slideshow": {
     "slide_type": "slide"
    }
   },
   "source": [
    "### Quantile-quantile plot\n",
    "\n",
    "Analysis of the normality of the data.\n",
    "\n",
    "<img width=50% src=\"https://www.mathworks.com/help/examples/stats/win64/QuantileQuantilePlotForNormalDistributionExample_01.png\">"
   ]
  },
  {
   "cell_type": "markdown",
   "metadata": {},
   "source": [
    "How it works:\n",
    "* plot the data against a normal distribution with the same mean and std dev\n",
    "* if the data is normal there will be a linear correlation."
   ]
  },
  {
   "cell_type": "markdown",
   "metadata": {
    "slideshow": {
     "slide_type": "slide"
    }
   },
   "source": [
    "### Q-Q plot: normally distributed data"
   ]
  },
  {
   "cell_type": "code",
   "execution_count": 31,
   "metadata": {},
   "outputs": [
    {
     "data": {
      "image/png": "[encoded data removed]",
      "text/plain": [
       "<Figure size 720x360 with 2 Axes>"
      ]
     },
     "metadata": {
      "needs_background": "light"
     },
     "output_type": "display_data"
    }
   ],
   "source": [
    "import scipy.stats as stats\n",
    "\n",
    "seq1 = np.random.normal(0, 1, 500)\n",
    "plt.figure(figsize=(10,5))\n",
    "plt.subplot(1,2,1)\n",
    "plt.hist(seq1)\n",
    "plt.subplot(1,2,2)\n",
    "_=stats.probplot(seq1, dist=\"norm\", plot=plt)"
   ]
  },
  {
   "cell_type": "markdown",
   "metadata": {
    "slideshow": {
     "slide_type": "slide"
    }
   },
   "source": [
    "### Q-Q plot: right skewed normal distribution\n",
    "\n",
    "* distribution has a long __right__ tail\n",
    "* also known as __positive__ skew"
   ]
  },
  {
   "cell_type": "code",
   "execution_count": 63,
   "metadata": {},
   "outputs": [
    {
     "data": {
      "image/png": "[encoded data removed]",
      "text/plain": [
       "<Figure size 720x360 with 2 Axes>"
      ]
     },
     "metadata": {
      "needs_background": "light"
     },
     "output_type": "display_data"
    }
   ],
   "source": [
    "import scipy.stats as stats\n",
    "\n",
    "seq1 = np.random.normal(0, 4, 100)\n",
    "seq2 = np.random.normal(-6,2, 400)\n",
    "seq3 = np.concatenate((seq1, seq2))\n",
    "plt.figure(figsize=(10,5))\n",
    "plt.subplot(1,2,1)\n",
    "plt.hist(seq3)\n",
    "plt.subplot(1,2,2)\n",
    "_=stats.probplot(seq3, dist=\"norm\", plot=plt)"
   ]
  },
  {
   "cell_type": "markdown",
   "metadata": {
    "slideshow": {
     "slide_type": "slide"
    }
   },
   "source": [
    "### Q-Q plot: left skewed normal distribution\n",
    "\n",
    "* distribution has a long __left__ tail\n",
    "* also known as __negative__ skew"
   ]
  },
  {
   "cell_type": "code",
   "execution_count": 65,
   "metadata": {},
   "outputs": [
    {
     "data": {
      "image/png": "[encoded data removed]",
      "text/plain": [
       "<Figure size 720x360 with 2 Axes>"
      ]
     },
     "metadata": {
      "needs_background": "light"
     },
     "output_type": "display_data"
    }
   ],
   "source": [
    "import scipy.stats as stats\n",
    "\n",
    "seq1 = np.random.normal(0, 4, 100)\n",
    "seq2 = np.random.normal(6,2,400)\n",
    "seq3 = np.concatenate((seq1, seq2))\n",
    "plt.figure(figsize=(10,5))\n",
    "plt.subplot(1,2,1)\n",
    "plt.hist(seq3)\n",
    "plt.subplot(1,2,2)\n",
    "_=stats.probplot(seq3, dist=\"norm\", plot=plt)"
   ]
  },
  {
   "cell_type": "markdown",
   "metadata": {
    "slideshow": {
     "slide_type": "slide"
    }
   },
   "source": [
    "### Q-Q plot: kurtosis\n",
    "\n",
    "* leptokurtic distribution\n",
    "* also known as positive excess kurtosis"
   ]
  },
  {
   "cell_type": "code",
   "execution_count": 66,
   "metadata": {},
   "outputs": [
    {
     "data": {
      "image/png": "[encoded data removed]",
      "text/plain": [
       "<Figure size 720x360 with 2 Axes>"
      ]
     },
     "metadata": {
      "needs_background": "light"
     },
     "output_type": "display_data"
    }
   ],
   "source": [
    "import scipy.stats as stats\n",
    "\n",
    "seq1 = np.random.normal(0, 4, 100)\n",
    "seq2 = np.random.normal(0, 1, 400)\n",
    "seq3 = np.concatenate((seq1, seq2))\n",
    "plt.figure(figsize=(10,5))\n",
    "plt.subplot(1,2,1)\n",
    "plt.hist(seq3)\n",
    "plt.subplot(1,2,2)\n",
    "_=stats.probplot(seq3, dist=\"norm\", plot=plt)"
   ]
  },
  {
   "cell_type": "markdown",
   "metadata": {
    "slideshow": {
     "slide_type": "slide"
    }
   },
   "source": [
    "### Data scale and changing the scale\n",
    "\n",
    "* sometimes the data is polarized between a few very large values and lots of small values"
   ]
  },
  {
   "cell_type": "code",
   "execution_count": 68,
   "metadata": {},
   "outputs": [],
   "source": [
    "from datetime import datetime\n",
    "timestamps = data['UTC timestamp'].apply(lambda s: datetime.strptime(s, \"%Y-%m-%d %H:%M:%S.%fZ\").timestamp())\n",
    "\n",
    "ipi = np.diff(timestamps)"
   ]
  },
  {
   "cell_type": "code",
   "execution_count": 69,
   "metadata": {},
   "outputs": [
    {
     "data": {
      "image/png": "[encoded data removed]",
      "text/plain": [
       "<Figure size 720x288 with 2 Axes>"
      ]
     },
     "metadata": {
      "needs_background": "light"
     },
     "output_type": "display_data"
    }
   ],
   "source": [
    "plt.figure(figsize=(10,4))\n",
    "plt.subplot(1,2,1)\n",
    "plt.plot(ipi, '.')\n",
    "plt.subplot(1,2,2)\n",
    "_=plt.hist(ipi)"
   ]
  },
  {
   "cell_type": "markdown",
   "metadata": {
    "slideshow": {
     "slide_type": "slide"
    }
   },
   "source": [
    "### Data scale and changing the scale\n",
    "\n",
    "* in these cases it's useful to change the scale to logarithmic\n",
    "* this will clearly show the distribution of the data"
   ]
  },
  {
   "cell_type": "code",
   "execution_count": 76,
   "metadata": {},
   "outputs": [
    {
     "data": {
      "image/png": "[encoded data removed]",
      "text/plain": [
       "<Figure size 1008x288 with 3 Axes>"
      ]
     },
     "metadata": {
      "needs_background": "light"
     },
     "output_type": "display_data"
    }
   ],
   "source": [
    "plt.figure(figsize=(14,4))\n",
    "plt.subplot(1,3,1)\n",
    "plt.plot(ipi, '.')\n",
    "plt.yscale('log')\n",
    "plt.subplot(1,3,2)\n",
    "_=plt.hist(ipi, bins=100)\n",
    "plt.yscale('log')\n",
    "plt.subplot(1,3,3)\n",
    "_=stats.probplot(ipi, dist='norm', plot=plt)\n",
    "plt.tight_layout()"
   ]
  },
  {
   "cell_type": "markdown",
   "metadata": {
    "slideshow": {
     "slide_type": "slide"
    }
   },
   "source": [
    "# Multivariate data"
   ]
  },
  {
   "cell_type": "code",
   "execution_count": 77,
   "metadata": {
    "slideshow": {
     "slide_type": "slide"
    }
   },
   "outputs": [
    {
     "data": {
      "text/plain": [
       "Index(['Unnamed: 0', 'UTC timestamp', 'us count', 'frequency', 'status',\n",
       "       'size', 'datarate', 'coderate', 'RSSI', 'SNR', 'SNRMIN', 'SNRMAX',\n",
       "       'payload', 'pld-hdr'],\n",
       "      dtype='object')"
      ]
     },
     "execution_count": 77,
     "metadata": {},
     "output_type": "execute_result"
    }
   ],
   "source": [
    "data.columns"
   ]
  },
  {
   "cell_type": "code",
   "execution_count": 79,
   "metadata": {},
   "outputs": [
    {
     "data": {
      "text/plain": [
       "CRC_OK     490571\n",
       "CRC_BAD     11952\n",
       "Name: status, dtype: int64"
      ]
     },
     "execution_count": 79,
     "metadata": {},
     "output_type": "execute_result"
    }
   ],
   "source": [
    "data['status'].value_counts()"
   ]
  },
  {
   "cell_type": "code",
   "execution_count": 80,
   "metadata": {},
   "outputs": [
    {
     "data": {
      "text/plain": [
       "SF12      101725\n",
       "SF10      101555\n",
       "SF9       101341\n",
       "SF8       100321\n",
       "SF7        97581\n",
       "Name: datarate, dtype: int64"
      ]
     },
     "execution_count": 80,
     "metadata": {},
     "output_type": "execute_result"
    }
   ],
   "source": [
    "data['datarate'].value_counts()"
   ]
  },
  {
   "cell_type": "markdown",
   "metadata": {
    "slideshow": {
     "slide_type": "slide"
    }
   },
   "source": [
    "### Categorical data: frequency analysis"
   ]
  },
  {
   "cell_type": "code",
   "execution_count": 5,
   "metadata": {
    "slideshow": {
     "slide_type": "-"
    }
   },
   "outputs": [],
   "source": [
    "cat_data = pd.DataFrame({'status': data['status'], 'datarate': data['datarate']})"
   ]
  },
  {
   "cell_type": "code",
   "execution_count": 6,
   "metadata": {},
   "outputs": [
    {
     "data": {
      "text/plain": [
       "datarate  status \n",
       "SF10      CRC_BAD       793\n",
       "          CRC_OK     100762\n",
       "SF12      CRC_OK     101725\n",
       "SF7       CRC_BAD      6064\n",
       "          CRC_OK      91517\n",
       "SF8       CRC_BAD      3554\n",
       "          CRC_OK      96767\n",
       "SF9       CRC_BAD      1541\n",
       "          CRC_OK      99800\n",
       "dtype: int64"
      ]
     },
     "execution_count": 6,
     "metadata": {},
     "output_type": "execute_result"
    }
   ],
   "source": [
    "cat_data.groupby([\"datarate\", \"status\"]).size()"
   ]
  },
  {
   "cell_type": "code",
   "execution_count": 31,
   "metadata": {},
   "outputs": [
    {
     "data": {
      "text/plain": [
       "<matplotlib.axes._subplots.AxesSubplot at 0x7fb01e326208>"
      ]
     },
     "execution_count": 31,
     "metadata": {},
     "output_type": "execute_result"
    },
    {
     "data": {
      "image/png": "[encoded data removed]",
      "text/plain": [
       "<Figure size 432x288 with 1 Axes>"
      ]
     },
     "metadata": {
      "needs_background": "light"
     },
     "output_type": "display_data"
    }
   ],
   "source": [
    "cat_data.groupby([\"datarate\", \"status\"]).size().plot.bar()"
   ]
  },
  {
   "cell_type": "markdown",
   "metadata": {
    "slideshow": {
     "slide_type": "slide"
    }
   },
   "source": [
    "### Ordinal and mixed data"
   ]
  },
  {
   "cell_type": "code",
   "execution_count": 33,
   "metadata": {
    "slideshow": {
     "slide_type": "-"
    }
   },
   "outputs": [],
   "source": [
    "cat_data = pd.DataFrame({'status': data['status'], 'datarate': data['datarate'], 'snr':data['SNR']})"
   ]
  },
  {
   "cell_type": "code",
   "execution_count": 34,
   "metadata": {},
   "outputs": [
    {
     "data": {
      "text/html": [
       "<div>\n",
       "<style scoped>\n",
       "    .dataframe tbody tr th:only-of-type {\n",
       "        vertical-align: middle;\n",
       "    }\n",
       "\n",
       "    .dataframe tbody tr th {\n",
       "        vertical-align: top;\n",
       "    }\n",
       "\n",
       "    .dataframe thead tr th {\n",
       "        text-align: left;\n",
       "    }\n",
       "\n",
       "    .dataframe thead tr:last-of-type th {\n",
       "        text-align: right;\n",
       "    }\n",
       "</style>\n",
       "<table border=\"1\" class=\"dataframe\">\n",
       "  <thead>\n",
       "    <tr>\n",
       "      <th></th>\n",
       "      <th></th>\n",
       "      <th colspan=\"8\" halign=\"left\">snr</th>\n",
       "    </tr>\n",
       "    <tr>\n",
       "      <th></th>\n",
       "      <th></th>\n",
       "      <th>count</th>\n",
       "      <th>mean</th>\n",
       "      <th>std</th>\n",
       "      <th>min</th>\n",
       "      <th>25%</th>\n",
       "      <th>50%</th>\n",
       "      <th>75%</th>\n",
       "      <th>max</th>\n",
       "    </tr>\n",
       "    <tr>\n",
       "      <th>datarate</th>\n",
       "      <th>status</th>\n",
       "      <th></th>\n",
       "      <th></th>\n",
       "      <th></th>\n",
       "      <th></th>\n",
       "      <th></th>\n",
       "      <th></th>\n",
       "      <th></th>\n",
       "      <th></th>\n",
       "    </tr>\n",
       "  </thead>\n",
       "  <tbody>\n",
       "    <tr>\n",
       "      <th rowspan=\"2\" valign=\"top\">SF10</th>\n",
       "      <th>CRC_BAD</th>\n",
       "      <td>793.0</td>\n",
       "      <td>-6.798108</td>\n",
       "      <td>7.977086</td>\n",
       "      <td>-20.8</td>\n",
       "      <td>-15.0</td>\n",
       "      <td>-6.8</td>\n",
       "      <td>0.8</td>\n",
       "      <td>8.2</td>\n",
       "    </tr>\n",
       "    <tr>\n",
       "      <th>CRC_OK</th>\n",
       "      <td>100762.0</td>\n",
       "      <td>0.907127</td>\n",
       "      <td>5.442551</td>\n",
       "      <td>-17.2</td>\n",
       "      <td>-2.8</td>\n",
       "      <td>2.2</td>\n",
       "      <td>5.2</td>\n",
       "      <td>11.0</td>\n",
       "    </tr>\n",
       "    <tr>\n",
       "      <th>SF12</th>\n",
       "      <th>CRC_OK</th>\n",
       "      <td>101725.0</td>\n",
       "      <td>6.721348</td>\n",
       "      <td>0.951567</td>\n",
       "      <td>-8.8</td>\n",
       "      <td>6.2</td>\n",
       "      <td>6.8</td>\n",
       "      <td>7.2</td>\n",
       "      <td>10.8</td>\n",
       "    </tr>\n",
       "    <tr>\n",
       "      <th rowspan=\"2\" valign=\"top\">SF7</th>\n",
       "      <th>CRC_BAD</th>\n",
       "      <td>6064.0</td>\n",
       "      <td>-8.429436</td>\n",
       "      <td>2.441189</td>\n",
       "      <td>-15.0</td>\n",
       "      <td>-9.8</td>\n",
       "      <td>-8.8</td>\n",
       "      <td>-7.8</td>\n",
       "      <td>5.5</td>\n",
       "    </tr>\n",
       "    <tr>\n",
       "      <th>CRC_OK</th>\n",
       "      <td>91517.0</td>\n",
       "      <td>1.434059</td>\n",
       "      <td>4.166420</td>\n",
       "      <td>-10.2</td>\n",
       "      <td>-1.5</td>\n",
       "      <td>2.2</td>\n",
       "      <td>4.8</td>\n",
       "      <td>9.8</td>\n",
       "    </tr>\n",
       "    <tr>\n",
       "      <th rowspan=\"2\" valign=\"top\">SF8</th>\n",
       "      <th>CRC_BAD</th>\n",
       "      <td>3554.0</td>\n",
       "      <td>-10.216601</td>\n",
       "      <td>3.825760</td>\n",
       "      <td>-16.8</td>\n",
       "      <td>-12.0</td>\n",
       "      <td>-11.2</td>\n",
       "      <td>-10.5</td>\n",
       "      <td>7.5</td>\n",
       "    </tr>\n",
       "    <tr>\n",
       "      <th>CRC_OK</th>\n",
       "      <td>96767.0</td>\n",
       "      <td>1.443746</td>\n",
       "      <td>4.991530</td>\n",
       "      <td>-12.5</td>\n",
       "      <td>-2.2</td>\n",
       "      <td>2.2</td>\n",
       "      <td>5.2</td>\n",
       "      <td>11.0</td>\n",
       "    </tr>\n",
       "    <tr>\n",
       "      <th rowspan=\"2\" valign=\"top\">SF9</th>\n",
       "      <th>CRC_BAD</th>\n",
       "      <td>1541.0</td>\n",
       "      <td>-9.430500</td>\n",
       "      <td>6.340076</td>\n",
       "      <td>-17.2</td>\n",
       "      <td>-14.0</td>\n",
       "      <td>-12.8</td>\n",
       "      <td>-5.0</td>\n",
       "      <td>7.5</td>\n",
       "    </tr>\n",
       "    <tr>\n",
       "      <th>CRC_OK</th>\n",
       "      <td>99800.0</td>\n",
       "      <td>1.284443</td>\n",
       "      <td>5.526988</td>\n",
       "      <td>-15.8</td>\n",
       "      <td>-2.5</td>\n",
       "      <td>2.2</td>\n",
       "      <td>5.5</td>\n",
       "      <td>12.2</td>\n",
       "    </tr>\n",
       "  </tbody>\n",
       "</table>\n",
       "</div>"
      ],
      "text/plain": [
       "                       snr                                                   \n",
       "                     count       mean       std   min   25%   50%   75%   max\n",
       "datarate status                                                              \n",
       "SF10     CRC_BAD     793.0  -6.798108  7.977086 -20.8 -15.0  -6.8   0.8   8.2\n",
       "         CRC_OK   100762.0   0.907127  5.442551 -17.2  -2.8   2.2   5.2  11.0\n",
       "SF12     CRC_OK   101725.0   6.721348  0.951567  -8.8   6.2   6.8   7.2  10.8\n",
       "SF7      CRC_BAD    6064.0  -8.429436  2.441189 -15.0  -9.8  -8.8  -7.8   5.5\n",
       "         CRC_OK    91517.0   1.434059  4.166420 -10.2  -1.5   2.2   4.8   9.8\n",
       "SF8      CRC_BAD    3554.0 -10.216601  3.825760 -16.8 -12.0 -11.2 -10.5   7.5\n",
       "         CRC_OK    96767.0   1.443746  4.991530 -12.5  -2.2   2.2   5.2  11.0\n",
       "SF9      CRC_BAD    1541.0  -9.430500  6.340076 -17.2 -14.0 -12.8  -5.0   7.5\n",
       "         CRC_OK    99800.0   1.284443  5.526988 -15.8  -2.5   2.2   5.5  12.2"
      ]
     },
     "execution_count": 34,
     "metadata": {},
     "output_type": "execute_result"
    }
   ],
   "source": [
    "cat_data.groupby([\"datarate\", \"status\"]).describe()"
   ]
  },
  {
   "cell_type": "markdown",
   "metadata": {
    "slideshow": {
     "slide_type": "slide"
    }
   },
   "source": [
    "### Mosaic plot\n",
    "\n",
    "<img src=\"https://miro.medium.com/max/1636/1*HQ-9olYMSoy-MA2eHQFO7w.png\" width=50%/>\n",
    "\n",
    "* useful for understanding relations and levels for categorical and mixed data\n",
    "* available in Python through the __statsmodel__ module"
   ]
  },
  {
   "cell_type": "markdown",
   "metadata": {
    "slideshow": {
     "slide_type": "slide"
    }
   },
   "source": [
    "### Cross-tabulation"
   ]
  },
  {
   "cell_type": "code",
   "execution_count": 50,
   "metadata": {},
   "outputs": [
    {
     "data": {
      "text/html": [
       "<div>\n",
       "<style scoped>\n",
       "    .dataframe tbody tr th:only-of-type {\n",
       "        vertical-align: middle;\n",
       "    }\n",
       "\n",
       "    .dataframe tbody tr th {\n",
       "        vertical-align: top;\n",
       "    }\n",
       "\n",
       "    .dataframe thead tr th {\n",
       "        text-align: left;\n",
       "    }\n",
       "\n",
       "    .dataframe thead tr:last-of-type th {\n",
       "        text-align: right;\n",
       "    }\n",
       "</style>\n",
       "<table border=\"1\" class=\"dataframe\">\n",
       "  <thead>\n",
       "    <tr>\n",
       "      <th>datarate</th>\n",
       "      <th colspan=\"4\" halign=\"left\">SF10</th>\n",
       "      <th colspan=\"2\" halign=\"left\">SF12</th>\n",
       "      <th colspan=\"2\" halign=\"left\">SF7</th>\n",
       "      <th colspan=\"3\" halign=\"left\">SF8</th>\n",
       "      <th colspan=\"3\" halign=\"left\">SF9</th>\n",
       "    </tr>\n",
       "    <tr>\n",
       "      <th>SNR</th>\n",
       "      <th>-2</th>\n",
       "      <th>-1</th>\n",
       "      <th>0</th>\n",
       "      <th>1</th>\n",
       "      <th>0</th>\n",
       "      <th>1</th>\n",
       "      <th>-1</th>\n",
       "      <th>0</th>\n",
       "      <th>-1</th>\n",
       "      <th>0</th>\n",
       "      <th>1</th>\n",
       "      <th>-1</th>\n",
       "      <th>0</th>\n",
       "      <th>1</th>\n",
       "    </tr>\n",
       "    <tr>\n",
       "      <th>status</th>\n",
       "      <th></th>\n",
       "      <th></th>\n",
       "      <th></th>\n",
       "      <th></th>\n",
       "      <th></th>\n",
       "      <th></th>\n",
       "      <th></th>\n",
       "      <th></th>\n",
       "      <th></th>\n",
       "      <th></th>\n",
       "      <th></th>\n",
       "      <th></th>\n",
       "      <th></th>\n",
       "      <th></th>\n",
       "    </tr>\n",
       "  </thead>\n",
       "  <tbody>\n",
       "    <tr>\n",
       "      <th>CRC_BAD</th>\n",
       "      <td>1.0</td>\n",
       "      <td>0.060618</td>\n",
       "      <td>0.004973</td>\n",
       "      <td>0.0</td>\n",
       "      <td>0.0</td>\n",
       "      <td>0.0</td>\n",
       "      <td>0.997575</td>\n",
       "      <td>0.050133</td>\n",
       "      <td>0.756477</td>\n",
       "      <td>0.006603</td>\n",
       "      <td>0.0</td>\n",
       "      <td>0.205102</td>\n",
       "      <td>0.005622</td>\n",
       "      <td>0.0</td>\n",
       "    </tr>\n",
       "    <tr>\n",
       "      <th>CRC_OK</th>\n",
       "      <td>0.0</td>\n",
       "      <td>0.939382</td>\n",
       "      <td>0.995027</td>\n",
       "      <td>1.0</td>\n",
       "      <td>1.0</td>\n",
       "      <td>1.0</td>\n",
       "      <td>0.002425</td>\n",
       "      <td>0.949867</td>\n",
       "      <td>0.243523</td>\n",
       "      <td>0.993397</td>\n",
       "      <td>1.0</td>\n",
       "      <td>0.794898</td>\n",
       "      <td>0.994378</td>\n",
       "      <td>1.0</td>\n",
       "    </tr>\n",
       "  </tbody>\n",
       "</table>\n",
       "</div>"
      ],
      "text/plain": [
       "datarate SF10                            SF12           SF7               \\\n",
       "SNR          -2        -1         0    1      0    1        -1         0   \n",
       "status                                                                     \n",
       "CRC_BAD     1.0  0.060618  0.004973  0.0    0.0  0.0  0.997575  0.050133   \n",
       "CRC_OK      0.0  0.939382  0.995027  1.0    1.0  1.0  0.002425  0.949867   \n",
       "\n",
       "datarate    SF8                      SF9                    \n",
       "SNR             -1         0    1        -1         0    1  \n",
       "status                                                      \n",
       "CRC_BAD   0.756477  0.006603  0.0  0.205102  0.005622  0.0  \n",
       "CRC_OK    0.243523  0.993397  1.0  0.794898  0.994378  1.0  "
      ]
     },
     "execution_count": 50,
     "metadata": {},
     "output_type": "execute_result"
    }
   ],
   "source": [
    "pd.crosstab(data['status'], [data['datarate'], data['SNR'].apply(lambda x: int(x/10))], normalize='columns')"
   ]
  },
  {
   "cell_type": "code",
   "execution_count": 36,
   "metadata": {
    "slideshow": {
     "slide_type": "slide"
    }
   },
   "outputs": [
    {
     "data": {
      "image/png": "[encoded data removed]",
      "text/plain": [
       "<Figure size 1080x360 with 1 Axes>"
      ]
     },
     "metadata": {
      "needs_background": "light"
     },
     "output_type": "display_data"
    }
   ],
   "source": [
    "_=cat_data.boxplot(by=['datarate', 'status'], figsize=(15,5))"
   ]
  },
  {
   "cell_type": "code",
   "execution_count": 82,
   "metadata": {
    "slideshow": {
     "slide_type": "slide"
    }
   },
   "outputs": [],
   "source": [
    "data['SF'] = data['datarate'].apply(lambda x: int(x.strip()[2:]))\n",
    "data['status'] = data['status'].apply(lambda x: x.strip())"
   ]
  },
  {
   "cell_type": "code",
   "execution_count": 99,
   "metadata": {},
   "outputs": [],
   "source": [
    "crc_ok = [data['SNR'][(data['SF']==d) & (data['status']=='CRC_OK')] for d in np.unique(data['SF'].values)]\n",
    "crc_bad = [data['SNR'][(data['SF']==d) & (data['status']=='CRC_BAD')] for d in np.unique(data['SF'].values)]"
   ]
  },
  {
   "cell_type": "code",
   "execution_count": 107,
   "metadata": {},
   "outputs": [
    {
     "data": {
      "image/png": "[encoded data removed]",
      "text/plain": [
       "<Figure size 432x288 with 1 Axes>"
      ]
     },
     "metadata": {
      "needs_background": "light"
     },
     "output_type": "display_data"
    }
   ],
   "source": [
    "_=plt.boxplot(crc_ok, vert=False, positions=[d+0.2 for d in np.unique(data['SF'].values)], widths=[0.2]*len(np.unique(data['SF'].values)))\n",
    "_=plt.boxplot(crc_bad, vert=False, positions=[d-0.2 for d in np.unique(data['SF'].values)], widths=[0.2]*len(np.unique(data['SF'].values)))\n",
    "plt.xlabel('SNR (dB)')\n",
    "plt.ylabel('Good vs bad packets, per datarate')\n",
    "_=plt.yticks([7,8,9,10,11,12], [7,8,9,10,11,12])\n",
    "for d in range(7,13):\n",
    "    plt.axhline(d, color='k', linestyle='--')"
   ]
  },
  {
   "cell_type": "markdown",
   "metadata": {
    "slideshow": {
     "slide_type": "slide"
    }
   },
   "source": [
    "### Correlation: scatterplot"
   ]
  },
  {
   "cell_type": "code",
   "execution_count": 120,
   "metadata": {},
   "outputs": [],
   "source": [
    "corr_data = pd.DataFrame({'rssi':data['RSSI'], 'snr':data['SNR']})"
   ]
  },
  {
   "cell_type": "code",
   "execution_count": 122,
   "metadata": {},
   "outputs": [
    {
     "data": {
      "text/plain": [
       "<matplotlib.axes._subplots.AxesSubplot at 0x7f65165ce588>"
      ]
     },
     "execution_count": 122,
     "metadata": {},
     "output_type": "execute_result"
    },
    {
     "data": {
      "image/png": "[encoded data removed]",
      "text/plain": [
       "<Figure size 432x288 with 1 Axes>"
      ]
     },
     "metadata": {
      "needs_background": "light"
     },
     "output_type": "display_data"
    }
   ],
   "source": [
    "corr_data.plot.scatter(x='rssi', y='snr')"
   ]
  },
  {
   "cell_type": "code",
   "execution_count": null,
   "metadata": {
    "slideshow": {
     "slide_type": "slide"
    }
   },
   "outputs": [],
   "source": [
    "    "
   ]
  }
 ],
 "metadata": {
  "celltoolbar": "Slideshow",
  "kernelspec": {
   "display_name": "Python 3",
   "language": "python",
   "name": "python3"
  },
  "language_info": {
   "codemirror_mode": {
    "name": "ipython",
    "version": 3
   },
   "file_extension": ".py",
   "mimetype": "text/x-python",
   "name": "python",
   "nbconvert_exporter": "python",
   "pygments_lexer": "ipython3",
   "version": "3.7.3"
  }
 },
 "nbformat": 4,
 "nbformat_minor": 2
}
